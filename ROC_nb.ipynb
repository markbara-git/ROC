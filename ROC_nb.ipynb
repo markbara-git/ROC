{
 "cells": [
  {
   "cell_type": "code",
   "execution_count": null,
   "metadata": {},
   "outputs": [],
   "source": [
    "import pandas as pd\n",
    "import os\n",
    "from sklearn.metrics import roc_curve, roc_auc_score, auc, confusion_matrix\n",
    "import matplotlib.pyplot as plt\n",
    "from sklearn.linear_model import LogisticRegression\n",
    "from sklearn.model_selection import train_test_split"
   ]
  },
  {
   "cell_type": "code",
   "execution_count": null,
   "metadata": {},
   "outputs": [],
   "source": [
    "#path to input csv\n",
    "input = \"input\\\\input-0-nr.csv\"\n",
    "output = \"output\\\\\""
   ]
  },
  {
   "cell_type": "code",
   "execution_count": null,
   "metadata": {},
   "outputs": [],
   "source": [
    "#get the related columns\n",
    "data = pd.read_csv(input,usecols=['geopixel', \n",
    "                                  'cve_css_total_score',\n",
    "                                  'osi_model_layer1_security_posture_assessment',\n",
    "                                  'osi_model_layer2_security_posture_assessment',\n",
    "                                  'osi_model_layer3_security_posture_assessment',\n",
    "                                  'os_os_security_assessment'])"
   ]
  },
  {
   "cell_type": "code",
   "execution_count": null,
   "metadata": {},
   "outputs": [],
   "source": [
    "#prepare the 'cve_css_total_score'\n",
    "data['cve_css_total_score'] = data['cve_css_total_score'].values * 0.1"
   ]
  },
  {
   "cell_type": "code",
   "execution_count": null,
   "metadata": {},
   "outputs": [],
   "source": [
    "#group data by 'goepixel'\n",
    "data = data.groupby('geopixel')\n",
    "\n",
    "#lists to store data\n",
    "geolist = []\n",
    "auclist = []\n",
    "\n",
    "#spliting by geopixel into seperate CSV files\n",
    "for name, group in data:\n",
    "    group.to_csv(output+f'{name}.csv',index=False)\n",
    "    geolist.append(output+f'{name}.csv')"
   ]
  },
  {
   "cell_type": "code",
   "execution_count": null,
   "metadata": {},
   "outputs": [],
   "source": [
    "#proccesing each geopixel\n",
    "for geo in geolist:\n",
    "    data = pd.read_csv(geo)\n",
    "    try:\n",
    "        #append the 'score' column based on 'cve_css_total_score\n",
    "        data['score'] = data['cve_css_total_score'].apply(lambda x: 1 if x >= 0.5 else 0)\n",
    "\n",
    "        #append the 'score2' column based on the 'os_os_security_assessment'\n",
    "        data['score2'] = data['os_os_security_assessment'].apply(lambda x: 1 if x >= 0.5 else 0)\n",
    "        \n",
    "        X = data[['score2',\n",
    "                  'osi_model_layer1_security_posture_assessment',\n",
    "                  'osi_model_layer2_security_posture_assessment',\n",
    "                  'osi_model_layer3_security_posture_assessment',\n",
    "                  'os_os_security_assessment']]\n",
    "        y = data['score']\n",
    "        \n",
    "        #train data\n",
    "        X_train, X_test, y_train, y_test = train_test_split(X,y,test_size=0.3, random_state=0)\n",
    "\n",
    "        #Logistic Regresion\n",
    "        log_regression = LogisticRegression()\n",
    "        log_regression.fit(X_train, y_train)\n",
    "\n",
    "        y_pred = log_regression.predict(X)\n",
    "\n",
    "        #create confusion matrix\n",
    "        confusionMatrix = confusion_matrix(y,y_pred)\n",
    "        #define metrics\n",
    "        y_pred_proba = log_regression.predict_proba(X_test)[::,1]\n",
    "        fpr, tpr, _ = roc_curve(y_test,  y_pred_proba)\n",
    "\n",
    "        auc = roc_auc_score(y_test, y_pred_proba)\n",
    "        auclist.append(auc)        \n",
    "    except:\n",
    "        #if not enough data then set the AUC value to -1\n",
    "        auclist.append(-1)\n",
    "    \n",
    "    #deleting temp csv    \n",
    "    os.remove(geo)"
   ]
  },
  {
   "cell_type": "code",
   "execution_count": null,
   "metadata": {},
   "outputs": [],
   "source": [
    "#formating the geolist\n",
    "geolist = [s[:-4] for s in geolist]\n",
    "geolist = [s[7:] for s in geolist]"
   ]
  },
  {
   "cell_type": "code",
   "execution_count": null,
   "metadata": {},
   "outputs": [],
   "source": [
    "#creating the CSV output\n",
    "df = pd.DataFrame({'geopixel': geolist, 'auc': auclist})\n",
    "df.to_csv(output+'output-nr.csv',index=False)"
   ]
  }
 ],
 "metadata": {
  "kernelspec": {
   "display_name": "Python 3",
   "language": "python",
   "name": "python3"
  },
  "language_info": {
   "codemirror_mode": {
    "name": "ipython",
    "version": 3
   },
   "file_extension": ".py",
   "mimetype": "text/x-python",
   "name": "python",
   "nbconvert_exporter": "python",
   "pygments_lexer": "ipython3",
   "version": "3.12.0"
  }
 },
 "nbformat": 4,
 "nbformat_minor": 2
}
